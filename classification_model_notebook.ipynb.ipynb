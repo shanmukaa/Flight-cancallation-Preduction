{
 "cells": [
  {
   "cell_type": "code",
   "execution_count": 1,
   "id": "a0f76eda-2667-4722-9415-cb9ee5cb05c6",
   "metadata": {},
   "outputs": [],
   "source": [
    "# Step 1: Import Libraries\n",
    "import pandas as pd\n",
    "import numpy as np\n",
    "from sklearn.model_selection import train_test_split\n",
    "from sklearn.preprocessing import StandardScaler, OneHotEncoder\n",
    "from sklearn.compose import ColumnTransformer\n",
    "from sklearn.pipeline import Pipeline\n",
    "from sklearn.linear_model import LogisticRegression\n",
    "from sklearn.tree import DecisionTreeClassifier\n",
    "from sklearn.ensemble import RandomForestClassifier\n",
    "from sklearn.svm import SVC\n",
    "from sklearn.metrics import classification_report, accuracy_score, precision_score, recall_score, f1_score"
   ]
  },
  {
   "cell_type": "code",
   "execution_count": 3,
   "id": "e9eb1a98-1415-4dc3-9aa5-ce5e2d4c3092",
   "metadata": {},
   "outputs": [],
   "source": [
    "# Step 2: Load Data\n",
    "df = pd.read_csv(\"cleaned_flight_data.csv\")"
   ]
  },
  {
   "cell_type": "code",
   "execution_count": 5,
   "id": "b31b3714-708e-4bef-9aa7-b1c9575381ee",
   "metadata": {},
   "outputs": [],
   "source": [
    "# Step 3: Define Features and Target\n",
    "X = df.drop(\"Flight_Cancelled\", axis=1)\n",
    "y = df[\"Flight_Cancelled\"]"
   ]
  },
  {
   "cell_type": "code",
   "execution_count": 7,
   "id": "683bd545-4335-4eda-bc42-459996cc10f1",
   "metadata": {},
   "outputs": [],
   "source": [
    "# Step 4: Identify Column Types\n",
    "categorical_cols = X.select_dtypes(include=['object']).columns.tolist()\n",
    "numerical_cols = X.select_dtypes(include=['int64', 'float64']).columns.tolist()"
   ]
  },
  {
   "cell_type": "code",
   "execution_count": 9,
   "id": "401b7a71-a307-4d2b-8e2b-0c3cd31bceed",
   "metadata": {},
   "outputs": [],
   "source": [
    "# Step 5: Split Dataset\n",
    "X_train, X_test, y_train, y_test = train_test_split(X, y, test_size=0.2, random_state=42)"
   ]
  },
  {
   "cell_type": "code",
   "execution_count": 11,
   "id": "b9a17023-741e-4a42-8946-334f4f8bd5ff",
   "metadata": {},
   "outputs": [],
   "source": [
    "# Step 6: Preprocessor\n",
    "preprocessor = ColumnTransformer(transformers=[\n",
    "    (\"num\", StandardScaler(), numerical_cols),\n",
    "    (\"cat\", OneHotEncoder(handle_unknown='ignore'), categorical_cols)\n",
    "])"
   ]
  },
  {
   "cell_type": "code",
   "execution_count": 13,
   "id": "7265d5fd-731c-45ee-ba71-f5e3ee961937",
   "metadata": {},
   "outputs": [],
   "source": [
    "# Step 7: Models to Compare\n",
    "models = {\n",
    "    \"Logistic Regression\": LogisticRegression(max_iter=1000),\n",
    "    \"Decision Tree\": DecisionTreeClassifier(random_state=42),\n",
    "    \"Random Forest\": RandomForestClassifier(n_estimators=100, random_state=42),\n",
    "    \"Support Vector Machine\": SVC(kernel='linear')  # You can try 'rbf' too\n",
    "}"
   ]
  },
  {
   "cell_type": "code",
   "execution_count": 15,
   "id": "cf3eb10f-e21d-4237-adc0-834f7198fb3f",
   "metadata": {},
   "outputs": [],
   "source": [
    "# Step 8: Train and Evaluate Models\n",
    "results = []\n",
    "predictions_df = pd.DataFrame()\n",
    "\n",
    "for model_name, model in models.items():\n",
    "    pipe = Pipeline(steps=[\n",
    "        (\"preprocessor\", preprocessor),\n",
    "        (\"classifier\", model)\n",
    "    ])\n",
    "    \n",
    "    pipe.fit(X_train, y_train)\n",
    "    y_pred = pipe.predict(X_test)\n",
    "\n",
    "    # Store predictions (for .csv export)\n",
    "    predictions_df[model_name] = y_pred\n",
    "\n",
    "    # Evaluation Metrics\n",
    "    accuracy = accuracy_score(y_test, y_pred)\n",
    "    precision = precision_score(y_test, y_pred)\n",
    "    recall = recall_score(y_test, y_pred)\n",
    "    f1 = f1_score(y_test, y_pred)\n",
    "\n",
    "    results.append({\n",
    "        \"Model\": model_name,\n",
    "        \"Accuracy\": round(accuracy, 3),\n",
    "        \"Precision\": round(precision, 3),\n",
    "        \"Recall\": round(recall, 3),\n",
    "        \"F1 Score\": round(f1, 3)\n",
    "    })\n"
   ]
  },
  {
   "cell_type": "code",
   "execution_count": 17,
   "id": "b0a1d248-ff49-49a5-9dd3-fc3e9917e0db",
   "metadata": {},
   "outputs": [
    {
     "name": "stdout",
     "output_type": "stream",
     "text": [
      "Model Comparison Table:\n",
      "                     Model  Accuracy  Precision  Recall  F1 Score\n",
      "0     Logistic Regression     0.803      0.836   0.889     0.862\n",
      "1           Decision Tree     0.967      0.971   0.981     0.976\n",
      "2           Random Forest     0.985      0.998   0.981     0.989\n",
      "3  Support Vector Machine     0.802      0.839   0.881     0.860\n"
     ]
    }
   ],
   "source": [
    "# Step 9: Create Comparison Table\n",
    "results_df = pd.DataFrame(results)\n",
    "print(\"Model Comparison Table:\\n\", results_df)"
   ]
  },
  {
   "cell_type": "code",
   "execution_count": 19,
   "id": "e18ab9ec-ecea-49d1-8145-00867e24d8de",
   "metadata": {},
   "outputs": [],
   "source": [
    "# Step 10: Save Results to CSV\n",
    "results_df.to_csv(\"classification_model_results.csv\", index=False)"
   ]
  },
  {
   "cell_type": "code",
   "execution_count": null,
   "id": "1c0a654b-c4df-4da7-ab46-f9d006733a67",
   "metadata": {},
   "outputs": [],
   "source": []
  }
 ],
 "metadata": {
  "kernelspec": {
   "display_name": "Python 3 (ipykernel)",
   "language": "python",
   "name": "python3"
  },
  "language_info": {
   "codemirror_mode": {
    "name": "ipython",
    "version": 3
   },
   "file_extension": ".py",
   "mimetype": "text/x-python",
   "name": "python",
   "nbconvert_exporter": "python",
   "pygments_lexer": "ipython3",
   "version": "3.12.7"
  }
 },
 "nbformat": 4,
 "nbformat_minor": 5
}
